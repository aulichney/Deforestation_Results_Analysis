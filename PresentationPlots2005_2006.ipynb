{
  "nbformat": 4,
  "nbformat_minor": 0,
  "metadata": {
    "colab": {
      "provenance": [],
      "authorship_tag": "ABX9TyNMzlYBnqZtvW91pWey0mJ9",
      "include_colab_link": true
    },
    "kernelspec": {
      "name": "python3",
      "display_name": "Python 3"
    },
    "language_info": {
      "name": "python"
    }
  },
  "cells": [
    {
      "cell_type": "markdown",
      "metadata": {
        "id": "view-in-github",
        "colab_type": "text"
      },
      "source": [
        "<a href=\"https://colab.research.google.com/github/aulichney/Deforestation_Results_Analysis/blob/main/PresentationPlots2005_2006.ipynb\" target=\"_parent\"><img src=\"https://colab.research.google.com/assets/colab-badge.svg\" alt=\"Open In Colab\"/></a>"
      ]
    },
    {
      "cell_type": "code",
      "execution_count": 39,
      "metadata": {
        "id": "5E1mkJnJJBe-"
      },
      "outputs": [],
      "source": [
        "import matplotlib.pyplot as plt\n",
        "import numpy as np\n",
        "import pandas as pd\n",
        "import seaborn as sns\n",
        "\n",
        "from sklearn.preprocessing import normalize\n",
        "from collections import OrderedDict\n",
        "import collections, functools, operator\n",
        "\n",
        "sns.set_theme(style=\"whitegrid\")"
      ]
    },
    {
      "cell_type": "code",
      "source": [
        "from matplotlib.pyplot import figure\n",
        "import matplotlib\n",
        "\n",
        "figure(figsize=(8, 6), dpi=80);\n",
        "\n",
        "sns.set(font_scale=2)"
      ],
      "metadata": {
        "colab": {
          "base_uri": "https://localhost:8080/",
          "height": 34
        },
        "id": "AhEhnUK5KTV0",
        "outputId": "20c71ed3-51e7-440e-d0ee-d0c13ba9d985"
      },
      "execution_count": 2,
      "outputs": [
        {
          "output_type": "display_data",
          "data": {
            "text/plain": [
              "<Figure size 640x480 with 0 Axes>"
            ]
          },
          "metadata": {}
        }
      ]
    },
    {
      "cell_type": "code",
      "source": [
        "def normalize(v):\n",
        "    norm = np.linalg.norm(v)\n",
        "    if norm == 0: \n",
        "       return v\n",
        "    return v / norm"
      ],
      "metadata": {
        "id": "OMO37xL455cA"
      },
      "execution_count": 3,
      "outputs": []
    },
    {
      "cell_type": "code",
      "source": [
        "random_forest_score = normalize(np.array([0.56728608, 0.11810299, 0.11731446, 0.06132576, 0.05404054,\n",
        "       0.03162324, 0.0250689 , 0.02055602, 0.00306878, 0.00161323]))\n",
        "random_forest_vars = ['rain1', 'n_companies_WOOD PROD', 'emiss_agropec_full',\n",
        "       'emiss_pec_full', 'n_jobs_AGRICULTURE', 'elevation',\n",
        "       'n_companies_AGRICULTURE', 'near_mines', 'pib_pc']\n",
        "\n",
        "\n",
        "lasso_score = normalize(np.array([9.13828511, 5.76315051, 5.56264235, 5.28737915, 4.06404263,\n",
        "       3.44999191, 3.13790534, 2.86061075, 2.61808745]))\n",
        "lasso_vars = ['emiss_agropec_full', 'n_companies_AGRICULTURE', 'rain1', 'elevation',\n",
        "       'near_mines', 'assassination_attempt', 'emiss_agr_full',\n",
        "       'n_companies_WOOD PROD', 'n_companies_TOTAL INDUSTRIAL']\n",
        "\n",
        "\n",
        "gradient_boosting_score = normalize([0.11977937, 0.11061045, 0.09813426, 0.09614332, 0.09452444,\n",
        "       0.02767772, 0.02477007, 0.02326332, 0.02041965])\n",
        "gradient_boosting_vars = ['rain1', 'near_mines', 'near_roads', 'near_hidrovia', 'elevation',\n",
        "       'emiss_agropec_full', 'emiss_agr_full', 'emiss_pec_full',\n",
        "       'n_companies_AGRICULTURE']\n",
        "\n",
        "\n",
        "random_forest = dict(zip(random_forest_vars, random_forest_score))\n",
        "lasso = dict(zip(lasso_vars, lasso_score))\n",
        "gradient_boosting = dict(zip(gradient_boosting_vars, gradient_boosting_score))\n"
      ],
      "metadata": {
        "id": "MOKk4-cSJIdG"
      },
      "execution_count": 4,
      "outputs": []
    },
    {
      "cell_type": "code",
      "source": [
        "dict_list = [random_forest, lasso, gradient_boosting]"
      ],
      "metadata": {
        "id": "8-sgq68XoLtK"
      },
      "execution_count": 5,
      "outputs": []
    },
    {
      "cell_type": "code",
      "source": [
        "all_keys = []\n",
        "[all_keys.extend(list(el.keys())) for el in dict_list]"
      ],
      "metadata": {
        "colab": {
          "base_uri": "https://localhost:8080/"
        },
        "id": "Ujpv9fm5oNha",
        "outputId": "a97ff4d2-8df3-44e0-bef2-5b29fa691074"
      },
      "execution_count": 23,
      "outputs": [
        {
          "output_type": "execute_result",
          "data": {
            "text/plain": [
              "[None, None, None]"
            ]
          },
          "metadata": {},
          "execution_count": 23
        }
      ]
    },
    {
      "cell_type": "code",
      "source": [
        "all_variables = np.unique(all_keys)"
      ],
      "metadata": {
        "id": "brfCsHeeoy9Z"
      },
      "execution_count": 26,
      "outputs": []
    },
    {
      "cell_type": "code",
      "source": [
        "dict_list = [random_forest, lasso, gradient_boosting]\n",
        "for this_dict in dict_list:\n",
        "  for key in all_variables: \n",
        "    if key not in this_dict.keys():\n",
        "      this_dict[key] = 0"
      ],
      "metadata": {
        "id": "PfY1RssuGNs5"
      },
      "execution_count": 27,
      "outputs": []
    },
    {
      "cell_type": "code",
      "source": [
        "random_forest = OrderedDict(sorted(random_forest.items()))\n",
        "lasso = OrderedDict(sorted(lasso.items()))\n",
        "gradient_boosting = OrderedDict(sorted(gradient_boosting.items()))"
      ],
      "metadata": {
        "id": "l9gDYHb3IKls"
      },
      "execution_count": 34,
      "outputs": []
    },
    {
      "cell_type": "code",
      "source": [
        "dict_list = [random_forest, lasso, gradient_boosting]"
      ],
      "metadata": {
        "id": "P86xjs7Cr6L4"
      },
      "execution_count": 38,
      "outputs": []
    },
    {
      "cell_type": "code",
      "source": [
        "sum = dict(functools.reduce(operator.add,\n",
        "         map(collections.Counter, dict_list)))\n",
        "\n",
        "sum_norm = dict(zip(sum.keys(), normalize(np.array(np.fromiter(sum.values(), dtype=float)).reshape(1, -1))[0]))\n",
        "\n",
        "dict_list.append(sum_norm)"
      ],
      "metadata": {
        "id": "PL_xFgtur4l7"
      },
      "execution_count": 78,
      "outputs": []
    },
    {
      "cell_type": "code",
      "source": [
        "fig, axes = plt.subplots(1, 4, figsize=(15, 5), sharey=True, sharex=True)\n",
        "fig.suptitle('Comparison of Important Features 2005 Data Predicting 2006 Deforestation')\n",
        "\n",
        "title_string_list = ['Random Forest', 'LASSO', 'Gradient Boosting', 'Sum']\n",
        "\n",
        "for i in range(len(dict_list)):\n",
        "  D = dict_list[i]\n",
        "  sns.barplot( ax=axes[i], x =list(D.values()), y = list(D.keys()),color='darkgreen')\n",
        "  axes[i].set_title(title_string_list[i])\n",
        "\n",
        "#axes.set( xlabel='Importance')\n",
        "plt.show()"
      ],
      "metadata": {
        "colab": {
          "base_uri": "https://localhost:8080/",
          "height": 358
        },
        "id": "ML1wcPfouYDp",
        "outputId": "3611b24d-3460-4a97-955a-6b0d7ce1069c"
      },
      "execution_count": 80,
      "outputs": [
        {
          "output_type": "display_data",
          "data": {
            "text/plain": [
              "<Figure size 1080x360 with 4 Axes>"
            ],
            "image/png": "[encoded data removed]"
          },
          "metadata": {}
        }
      ]
    },
    {
      "cell_type": "code",
      "source": [
        "# Set the figure size\n",
        "\n",
        "D = random_forest\n",
        "title_string_list = ['Random Forest', 'LASSO', 'Gradient Boosting', 'Sum']\n",
        "\n",
        "plt.figure(figsize=(8, 6))\n",
        "\n",
        "# plot a bar chart\n",
        "ax = sns.barplot( ax=axes[i], x =list(D.values()), y = list(D.keys()),color='darkgreen')\n",
        "\n",
        "ax.set( xlabel='Importance')\n",
        "#plt.title(title_string + ' Feature Importance')\n",
        "\n",
        "#ax.set_xticklabels(list(D.keys()), rotation = 45)\n",
        "plt.show()"
      ],
      "metadata": {
        "colab": {
          "base_uri": "https://localhost:8080/",
          "height": 34
        },
        "id": "cE5lV4AT5AlH",
        "outputId": "cf91a6e1-d5ae-4004-dad0-2be96c1aa0a2"
      },
      "execution_count": 75,
      "outputs": [
        {
          "output_type": "display_data",
          "data": {
            "text/plain": [
              "<Figure size 576x432 with 0 Axes>"
            ]
          },
          "metadata": {}
        }
      ]
    }
  ]
}